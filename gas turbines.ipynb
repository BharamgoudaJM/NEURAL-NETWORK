{
 "cells": [
  {
   "cell_type": "code",
   "execution_count": 1,
   "id": "1b2ac5f2",
   "metadata": {},
   "outputs": [],
   "source": [
    "import pandas as pd\n",
    "import numpy as np\n",
    "import matplotlib.pyplot as plt\n",
    "from sklearn.model_selection import train_test_split\n",
    "from sklearn.metrics import mean_squared_error\n",
    "from keras.optimizers import Adam\n",
    "from sklearn.model_selection import RandomizedSearchCV,KFold\n",
    "from keras.wrappers.scikit_learn import KerasRegressor\n",
    "import warnings\n",
    "warnings.filterwarnings(\"ignore\")"
   ]
  },
  {
   "cell_type": "code",
   "execution_count": 2,
   "id": "ab53ff74",
   "metadata": {},
   "outputs": [
    {
     "data": {
      "text/html": [
       "<div>\n",
       "<style scoped>\n",
       "    .dataframe tbody tr th:only-of-type {\n",
       "        vertical-align: middle;\n",
       "    }\n",
       "\n",
       "    .dataframe tbody tr th {\n",
       "        vertical-align: top;\n",
       "    }\n",
       "\n",
       "    .dataframe thead th {\n",
       "        text-align: right;\n",
       "    }\n",
       "</style>\n",
       "<table border=\"1\" class=\"dataframe\">\n",
       "  <thead>\n",
       "    <tr style=\"text-align: right;\">\n",
       "      <th></th>\n",
       "      <th>AT</th>\n",
       "      <th>AP</th>\n",
       "      <th>AH</th>\n",
       "      <th>AFDP</th>\n",
       "      <th>GTEP</th>\n",
       "      <th>TIT</th>\n",
       "      <th>TAT</th>\n",
       "      <th>TEY</th>\n",
       "      <th>CDP</th>\n",
       "      <th>CO</th>\n",
       "      <th>NOX</th>\n",
       "    </tr>\n",
       "  </thead>\n",
       "  <tbody>\n",
       "    <tr>\n",
       "      <th>0</th>\n",
       "      <td>6.8594</td>\n",
       "      <td>1007.9</td>\n",
       "      <td>96.799</td>\n",
       "      <td>3.5000</td>\n",
       "      <td>19.663</td>\n",
       "      <td>1059.2</td>\n",
       "      <td>550.00</td>\n",
       "      <td>114.70</td>\n",
       "      <td>10.605</td>\n",
       "      <td>3.1547</td>\n",
       "      <td>82.722</td>\n",
       "    </tr>\n",
       "    <tr>\n",
       "      <th>1</th>\n",
       "      <td>6.7850</td>\n",
       "      <td>1008.4</td>\n",
       "      <td>97.118</td>\n",
       "      <td>3.4998</td>\n",
       "      <td>19.728</td>\n",
       "      <td>1059.3</td>\n",
       "      <td>550.00</td>\n",
       "      <td>114.72</td>\n",
       "      <td>10.598</td>\n",
       "      <td>3.2363</td>\n",
       "      <td>82.776</td>\n",
       "    </tr>\n",
       "    <tr>\n",
       "      <th>2</th>\n",
       "      <td>6.8977</td>\n",
       "      <td>1008.8</td>\n",
       "      <td>95.939</td>\n",
       "      <td>3.4824</td>\n",
       "      <td>19.779</td>\n",
       "      <td>1059.4</td>\n",
       "      <td>549.87</td>\n",
       "      <td>114.71</td>\n",
       "      <td>10.601</td>\n",
       "      <td>3.2012</td>\n",
       "      <td>82.468</td>\n",
       "    </tr>\n",
       "    <tr>\n",
       "      <th>3</th>\n",
       "      <td>7.0569</td>\n",
       "      <td>1009.2</td>\n",
       "      <td>95.249</td>\n",
       "      <td>3.4805</td>\n",
       "      <td>19.792</td>\n",
       "      <td>1059.6</td>\n",
       "      <td>549.99</td>\n",
       "      <td>114.72</td>\n",
       "      <td>10.606</td>\n",
       "      <td>3.1923</td>\n",
       "      <td>82.670</td>\n",
       "    </tr>\n",
       "    <tr>\n",
       "      <th>4</th>\n",
       "      <td>7.3978</td>\n",
       "      <td>1009.7</td>\n",
       "      <td>95.150</td>\n",
       "      <td>3.4976</td>\n",
       "      <td>19.765</td>\n",
       "      <td>1059.7</td>\n",
       "      <td>549.98</td>\n",
       "      <td>114.72</td>\n",
       "      <td>10.612</td>\n",
       "      <td>3.2484</td>\n",
       "      <td>82.311</td>\n",
       "    </tr>\n",
       "    <tr>\n",
       "      <th>...</th>\n",
       "      <td>...</td>\n",
       "      <td>...</td>\n",
       "      <td>...</td>\n",
       "      <td>...</td>\n",
       "      <td>...</td>\n",
       "      <td>...</td>\n",
       "      <td>...</td>\n",
       "      <td>...</td>\n",
       "      <td>...</td>\n",
       "      <td>...</td>\n",
       "      <td>...</td>\n",
       "    </tr>\n",
       "    <tr>\n",
       "      <th>15034</th>\n",
       "      <td>9.0301</td>\n",
       "      <td>1005.6</td>\n",
       "      <td>98.460</td>\n",
       "      <td>3.5421</td>\n",
       "      <td>19.164</td>\n",
       "      <td>1049.7</td>\n",
       "      <td>546.21</td>\n",
       "      <td>111.61</td>\n",
       "      <td>10.400</td>\n",
       "      <td>4.5186</td>\n",
       "      <td>79.559</td>\n",
       "    </tr>\n",
       "    <tr>\n",
       "      <th>15035</th>\n",
       "      <td>7.8879</td>\n",
       "      <td>1005.9</td>\n",
       "      <td>99.093</td>\n",
       "      <td>3.5059</td>\n",
       "      <td>19.414</td>\n",
       "      <td>1046.3</td>\n",
       "      <td>543.22</td>\n",
       "      <td>111.78</td>\n",
       "      <td>10.433</td>\n",
       "      <td>4.8470</td>\n",
       "      <td>79.917</td>\n",
       "    </tr>\n",
       "    <tr>\n",
       "      <th>15036</th>\n",
       "      <td>7.2647</td>\n",
       "      <td>1006.3</td>\n",
       "      <td>99.496</td>\n",
       "      <td>3.4770</td>\n",
       "      <td>19.530</td>\n",
       "      <td>1037.7</td>\n",
       "      <td>537.32</td>\n",
       "      <td>110.19</td>\n",
       "      <td>10.483</td>\n",
       "      <td>7.9632</td>\n",
       "      <td>90.912</td>\n",
       "    </tr>\n",
       "    <tr>\n",
       "      <th>15037</th>\n",
       "      <td>7.0060</td>\n",
       "      <td>1006.8</td>\n",
       "      <td>99.008</td>\n",
       "      <td>3.4486</td>\n",
       "      <td>19.377</td>\n",
       "      <td>1043.2</td>\n",
       "      <td>541.24</td>\n",
       "      <td>110.74</td>\n",
       "      <td>10.533</td>\n",
       "      <td>6.2494</td>\n",
       "      <td>93.227</td>\n",
       "    </tr>\n",
       "    <tr>\n",
       "      <th>15038</th>\n",
       "      <td>6.9279</td>\n",
       "      <td>1007.2</td>\n",
       "      <td>97.533</td>\n",
       "      <td>3.4275</td>\n",
       "      <td>19.306</td>\n",
       "      <td>1049.9</td>\n",
       "      <td>545.85</td>\n",
       "      <td>111.58</td>\n",
       "      <td>10.583</td>\n",
       "      <td>4.9816</td>\n",
       "      <td>92.498</td>\n",
       "    </tr>\n",
       "  </tbody>\n",
       "</table>\n",
       "<p>15039 rows × 11 columns</p>\n",
       "</div>"
      ],
      "text/plain": [
       "           AT      AP      AH    AFDP    GTEP     TIT     TAT     TEY     CDP  \\\n",
       "0      6.8594  1007.9  96.799  3.5000  19.663  1059.2  550.00  114.70  10.605   \n",
       "1      6.7850  1008.4  97.118  3.4998  19.728  1059.3  550.00  114.72  10.598   \n",
       "2      6.8977  1008.8  95.939  3.4824  19.779  1059.4  549.87  114.71  10.601   \n",
       "3      7.0569  1009.2  95.249  3.4805  19.792  1059.6  549.99  114.72  10.606   \n",
       "4      7.3978  1009.7  95.150  3.4976  19.765  1059.7  549.98  114.72  10.612   \n",
       "...       ...     ...     ...     ...     ...     ...     ...     ...     ...   \n",
       "15034  9.0301  1005.6  98.460  3.5421  19.164  1049.7  546.21  111.61  10.400   \n",
       "15035  7.8879  1005.9  99.093  3.5059  19.414  1046.3  543.22  111.78  10.433   \n",
       "15036  7.2647  1006.3  99.496  3.4770  19.530  1037.7  537.32  110.19  10.483   \n",
       "15037  7.0060  1006.8  99.008  3.4486  19.377  1043.2  541.24  110.74  10.533   \n",
       "15038  6.9279  1007.2  97.533  3.4275  19.306  1049.9  545.85  111.58  10.583   \n",
       "\n",
       "           CO     NOX  \n",
       "0      3.1547  82.722  \n",
       "1      3.2363  82.776  \n",
       "2      3.2012  82.468  \n",
       "3      3.1923  82.670  \n",
       "4      3.2484  82.311  \n",
       "...       ...     ...  \n",
       "15034  4.5186  79.559  \n",
       "15035  4.8470  79.917  \n",
       "15036  7.9632  90.912  \n",
       "15037  6.2494  93.227  \n",
       "15038  4.9816  92.498  \n",
       "\n",
       "[15039 rows x 11 columns]"
      ]
     },
     "execution_count": 2,
     "metadata": {},
     "output_type": "execute_result"
    }
   ],
   "source": [
    "gt=pd.read_csv(\"gas_turbines.csv\")\n",
    "gt"
   ]
  },
  {
   "cell_type": "code",
   "execution_count": 3,
   "id": "e3292f37",
   "metadata": {},
   "outputs": [
    {
     "data": {
      "text/plain": [
       "AT      0\n",
       "AP      0\n",
       "AH      0\n",
       "AFDP    0\n",
       "GTEP    0\n",
       "TIT     0\n",
       "TAT     0\n",
       "TEY     0\n",
       "CDP     0\n",
       "CO      0\n",
       "NOX     0\n",
       "dtype: int64"
      ]
     },
     "execution_count": 3,
     "metadata": {},
     "output_type": "execute_result"
    }
   ],
   "source": [
    "gt.isna().sum()"
   ]
  },
  {
   "cell_type": "code",
   "execution_count": 4,
   "id": "eb17cd21",
   "metadata": {},
   "outputs": [
    {
     "data": {
      "text/plain": [
       "(15039, 11)"
      ]
     },
     "execution_count": 4,
     "metadata": {},
     "output_type": "execute_result"
    }
   ],
   "source": [
    "gt.shape"
   ]
  },
  {
   "cell_type": "code",
   "execution_count": 5,
   "id": "ddbcd55e",
   "metadata": {},
   "outputs": [
    {
     "name": "stdout",
     "output_type": "stream",
     "text": [
      "<class 'pandas.core.frame.DataFrame'>\n",
      "RangeIndex: 15039 entries, 0 to 15038\n",
      "Data columns (total 11 columns):\n",
      " #   Column  Non-Null Count  Dtype  \n",
      "---  ------  --------------  -----  \n",
      " 0   AT      15039 non-null  float64\n",
      " 1   AP      15039 non-null  float64\n",
      " 2   AH      15039 non-null  float64\n",
      " 3   AFDP    15039 non-null  float64\n",
      " 4   GTEP    15039 non-null  float64\n",
      " 5   TIT     15039 non-null  float64\n",
      " 6   TAT     15039 non-null  float64\n",
      " 7   TEY     15039 non-null  float64\n",
      " 8   CDP     15039 non-null  float64\n",
      " 9   CO      15039 non-null  float64\n",
      " 10  NOX     15039 non-null  float64\n",
      "dtypes: float64(11)\n",
      "memory usage: 1.3 MB\n"
     ]
    }
   ],
   "source": [
    "gt.info()"
   ]
  },
  {
   "cell_type": "code",
   "execution_count": 6,
   "id": "1a94abe9",
   "metadata": {},
   "outputs": [
    {
     "data": {
      "text/plain": [
       "Index(['AT', 'AP', 'AH', 'AFDP', 'GTEP', 'TIT', 'TAT', 'TEY', 'CDP', 'CO',\n",
       "       'NOX'],\n",
       "      dtype='object')"
      ]
     },
     "execution_count": 6,
     "metadata": {},
     "output_type": "execute_result"
    }
   ],
   "source": [
    "gt.columns"
   ]
  },
  {
   "cell_type": "code",
   "execution_count": 7,
   "id": "14bc22da",
   "metadata": {},
   "outputs": [],
   "source": [
    "gt=gt.loc[:,['AT','AP','AH','AFDP','GTEP','TIT','TAT','CDP','CO','NOX','TEY']]"
   ]
  },
  {
   "cell_type": "code",
   "execution_count": 8,
   "id": "0f25d1fc",
   "metadata": {},
   "outputs": [],
   "source": [
    "x=gt.iloc[:,0:-1]\n",
    "y=gt.iloc[:,-1]"
   ]
  },
  {
   "cell_type": "code",
   "execution_count": 9,
   "id": "da770620",
   "metadata": {},
   "outputs": [
    {
     "data": {
      "text/html": [
       "<div>\n",
       "<style scoped>\n",
       "    .dataframe tbody tr th:only-of-type {\n",
       "        vertical-align: middle;\n",
       "    }\n",
       "\n",
       "    .dataframe tbody tr th {\n",
       "        vertical-align: top;\n",
       "    }\n",
       "\n",
       "    .dataframe thead th {\n",
       "        text-align: right;\n",
       "    }\n",
       "</style>\n",
       "<table border=\"1\" class=\"dataframe\">\n",
       "  <thead>\n",
       "    <tr style=\"text-align: right;\">\n",
       "      <th></th>\n",
       "      <th>AT</th>\n",
       "      <th>AP</th>\n",
       "      <th>AH</th>\n",
       "      <th>AFDP</th>\n",
       "      <th>GTEP</th>\n",
       "      <th>TIT</th>\n",
       "      <th>TAT</th>\n",
       "      <th>CDP</th>\n",
       "      <th>CO</th>\n",
       "      <th>NOX</th>\n",
       "    </tr>\n",
       "  </thead>\n",
       "  <tbody>\n",
       "    <tr>\n",
       "      <th>0</th>\n",
       "      <td>6.8594</td>\n",
       "      <td>1007.9</td>\n",
       "      <td>96.799</td>\n",
       "      <td>3.5000</td>\n",
       "      <td>19.663</td>\n",
       "      <td>1059.2</td>\n",
       "      <td>550.00</td>\n",
       "      <td>10.605</td>\n",
       "      <td>3.1547</td>\n",
       "      <td>82.722</td>\n",
       "    </tr>\n",
       "    <tr>\n",
       "      <th>1</th>\n",
       "      <td>6.7850</td>\n",
       "      <td>1008.4</td>\n",
       "      <td>97.118</td>\n",
       "      <td>3.4998</td>\n",
       "      <td>19.728</td>\n",
       "      <td>1059.3</td>\n",
       "      <td>550.00</td>\n",
       "      <td>10.598</td>\n",
       "      <td>3.2363</td>\n",
       "      <td>82.776</td>\n",
       "    </tr>\n",
       "    <tr>\n",
       "      <th>2</th>\n",
       "      <td>6.8977</td>\n",
       "      <td>1008.8</td>\n",
       "      <td>95.939</td>\n",
       "      <td>3.4824</td>\n",
       "      <td>19.779</td>\n",
       "      <td>1059.4</td>\n",
       "      <td>549.87</td>\n",
       "      <td>10.601</td>\n",
       "      <td>3.2012</td>\n",
       "      <td>82.468</td>\n",
       "    </tr>\n",
       "    <tr>\n",
       "      <th>3</th>\n",
       "      <td>7.0569</td>\n",
       "      <td>1009.2</td>\n",
       "      <td>95.249</td>\n",
       "      <td>3.4805</td>\n",
       "      <td>19.792</td>\n",
       "      <td>1059.6</td>\n",
       "      <td>549.99</td>\n",
       "      <td>10.606</td>\n",
       "      <td>3.1923</td>\n",
       "      <td>82.670</td>\n",
       "    </tr>\n",
       "    <tr>\n",
       "      <th>4</th>\n",
       "      <td>7.3978</td>\n",
       "      <td>1009.7</td>\n",
       "      <td>95.150</td>\n",
       "      <td>3.4976</td>\n",
       "      <td>19.765</td>\n",
       "      <td>1059.7</td>\n",
       "      <td>549.98</td>\n",
       "      <td>10.612</td>\n",
       "      <td>3.2484</td>\n",
       "      <td>82.311</td>\n",
       "    </tr>\n",
       "    <tr>\n",
       "      <th>...</th>\n",
       "      <td>...</td>\n",
       "      <td>...</td>\n",
       "      <td>...</td>\n",
       "      <td>...</td>\n",
       "      <td>...</td>\n",
       "      <td>...</td>\n",
       "      <td>...</td>\n",
       "      <td>...</td>\n",
       "      <td>...</td>\n",
       "      <td>...</td>\n",
       "    </tr>\n",
       "    <tr>\n",
       "      <th>15034</th>\n",
       "      <td>9.0301</td>\n",
       "      <td>1005.6</td>\n",
       "      <td>98.460</td>\n",
       "      <td>3.5421</td>\n",
       "      <td>19.164</td>\n",
       "      <td>1049.7</td>\n",
       "      <td>546.21</td>\n",
       "      <td>10.400</td>\n",
       "      <td>4.5186</td>\n",
       "      <td>79.559</td>\n",
       "    </tr>\n",
       "    <tr>\n",
       "      <th>15035</th>\n",
       "      <td>7.8879</td>\n",
       "      <td>1005.9</td>\n",
       "      <td>99.093</td>\n",
       "      <td>3.5059</td>\n",
       "      <td>19.414</td>\n",
       "      <td>1046.3</td>\n",
       "      <td>543.22</td>\n",
       "      <td>10.433</td>\n",
       "      <td>4.8470</td>\n",
       "      <td>79.917</td>\n",
       "    </tr>\n",
       "    <tr>\n",
       "      <th>15036</th>\n",
       "      <td>7.2647</td>\n",
       "      <td>1006.3</td>\n",
       "      <td>99.496</td>\n",
       "      <td>3.4770</td>\n",
       "      <td>19.530</td>\n",
       "      <td>1037.7</td>\n",
       "      <td>537.32</td>\n",
       "      <td>10.483</td>\n",
       "      <td>7.9632</td>\n",
       "      <td>90.912</td>\n",
       "    </tr>\n",
       "    <tr>\n",
       "      <th>15037</th>\n",
       "      <td>7.0060</td>\n",
       "      <td>1006.8</td>\n",
       "      <td>99.008</td>\n",
       "      <td>3.4486</td>\n",
       "      <td>19.377</td>\n",
       "      <td>1043.2</td>\n",
       "      <td>541.24</td>\n",
       "      <td>10.533</td>\n",
       "      <td>6.2494</td>\n",
       "      <td>93.227</td>\n",
       "    </tr>\n",
       "    <tr>\n",
       "      <th>15038</th>\n",
       "      <td>6.9279</td>\n",
       "      <td>1007.2</td>\n",
       "      <td>97.533</td>\n",
       "      <td>3.4275</td>\n",
       "      <td>19.306</td>\n",
       "      <td>1049.9</td>\n",
       "      <td>545.85</td>\n",
       "      <td>10.583</td>\n",
       "      <td>4.9816</td>\n",
       "      <td>92.498</td>\n",
       "    </tr>\n",
       "  </tbody>\n",
       "</table>\n",
       "<p>15039 rows × 10 columns</p>\n",
       "</div>"
      ],
      "text/plain": [
       "           AT      AP      AH    AFDP    GTEP     TIT     TAT     CDP      CO  \\\n",
       "0      6.8594  1007.9  96.799  3.5000  19.663  1059.2  550.00  10.605  3.1547   \n",
       "1      6.7850  1008.4  97.118  3.4998  19.728  1059.3  550.00  10.598  3.2363   \n",
       "2      6.8977  1008.8  95.939  3.4824  19.779  1059.4  549.87  10.601  3.2012   \n",
       "3      7.0569  1009.2  95.249  3.4805  19.792  1059.6  549.99  10.606  3.1923   \n",
       "4      7.3978  1009.7  95.150  3.4976  19.765  1059.7  549.98  10.612  3.2484   \n",
       "...       ...     ...     ...     ...     ...     ...     ...     ...     ...   \n",
       "15034  9.0301  1005.6  98.460  3.5421  19.164  1049.7  546.21  10.400  4.5186   \n",
       "15035  7.8879  1005.9  99.093  3.5059  19.414  1046.3  543.22  10.433  4.8470   \n",
       "15036  7.2647  1006.3  99.496  3.4770  19.530  1037.7  537.32  10.483  7.9632   \n",
       "15037  7.0060  1006.8  99.008  3.4486  19.377  1043.2  541.24  10.533  6.2494   \n",
       "15038  6.9279  1007.2  97.533  3.4275  19.306  1049.9  545.85  10.583  4.9816   \n",
       "\n",
       "          NOX  \n",
       "0      82.722  \n",
       "1      82.776  \n",
       "2      82.468  \n",
       "3      82.670  \n",
       "4      82.311  \n",
       "...       ...  \n",
       "15034  79.559  \n",
       "15035  79.917  \n",
       "15036  90.912  \n",
       "15037  93.227  \n",
       "15038  92.498  \n",
       "\n",
       "[15039 rows x 10 columns]"
      ]
     },
     "execution_count": 9,
     "metadata": {},
     "output_type": "execute_result"
    }
   ],
   "source": [
    "x"
   ]
  },
  {
   "cell_type": "code",
   "execution_count": 10,
   "id": "f9b335a4",
   "metadata": {},
   "outputs": [
    {
     "data": {
      "text/plain": [
       "0        114.70\n",
       "1        114.72\n",
       "2        114.71\n",
       "3        114.72\n",
       "4        114.72\n",
       "          ...  \n",
       "15034    111.61\n",
       "15035    111.78\n",
       "15036    110.19\n",
       "15037    110.74\n",
       "15038    111.58\n",
       "Name: TEY, Length: 15039, dtype: float64"
      ]
     },
     "execution_count": 10,
     "metadata": {},
     "output_type": "execute_result"
    }
   ],
   "source": [
    "y"
   ]
  },
  {
   "cell_type": "code",
   "execution_count": 11,
   "id": "f41f3db4",
   "metadata": {},
   "outputs": [],
   "source": [
    "x_train,x_test,y_train,y_test=train_test_split(x,y,test_size=0.2,random_state=10)"
   ]
  },
  {
   "cell_type": "markdown",
   "id": "18a46305",
   "metadata": {},
   "source": [
    "# Creating a model"
   ]
  },
  {
   "cell_type": "code",
   "execution_count": 12,
   "id": "857e54b0",
   "metadata": {},
   "outputs": [],
   "source": [
    "import tensorflow as tf"
   ]
  },
  {
   "cell_type": "code",
   "execution_count": 13,
   "id": "4a47d4a0",
   "metadata": {},
   "outputs": [],
   "source": [
    "model1=tf.keras.models.Sequential()\n",
    "model1.add(tf.keras.layers.Dense(15,input_dim=10,activation='ReLU'))\n",
    "model1.add(tf.keras.layers.Dense(10,activation='ReLU'))\n",
    "model1.add(tf.keras.layers.Dense(1,activation='ReLU'))\n"
   ]
  },
  {
   "cell_type": "code",
   "execution_count": 14,
   "id": "7daec8a1",
   "metadata": {},
   "outputs": [
    {
     "name": "stdout",
     "output_type": "stream",
     "text": [
      "Model: \"sequential\"\n",
      "_________________________________________________________________\n",
      " Layer (type)                Output Shape              Param #   \n",
      "=================================================================\n",
      " dense (Dense)               (None, 15)                165       \n",
      "                                                                 \n",
      " dense_1 (Dense)             (None, 10)                160       \n",
      "                                                                 \n",
      " dense_2 (Dense)             (None, 1)                 11        \n",
      "                                                                 \n",
      "=================================================================\n",
      "Total params: 336\n",
      "Trainable params: 336\n",
      "Non-trainable params: 0\n",
      "_________________________________________________________________\n"
     ]
    }
   ],
   "source": [
    "model1.summary()"
   ]
  },
  {
   "cell_type": "code",
   "execution_count": 15,
   "id": "fa936007",
   "metadata": {},
   "outputs": [],
   "source": [
    "model1.compile(loss='mse',optimizer='adam',metrics=['mse','mae'])"
   ]
  },
  {
   "cell_type": "code",
   "execution_count": 16,
   "id": "46c5618a",
   "metadata": {},
   "outputs": [
    {
     "name": "stdout",
     "output_type": "stream",
     "text": [
      "Epoch 1/50\n",
      "121/121 [==============================] - 1s 2ms/step - loss: 18278.8906 - mse: 18278.8906 - mae: 134.2709 - val_loss: 18169.9980 - val_mse: 18169.9980 - val_mae: 133.8587\n",
      "Epoch 2/50\n",
      "121/121 [==============================] - 0s 1ms/step - loss: 18278.8867 - mse: 18278.8867 - mae: 134.2710 - val_loss: 18169.9980 - val_mse: 18169.9980 - val_mae: 133.8587\n",
      "Epoch 3/50\n",
      "121/121 [==============================] - 0s 1ms/step - loss: 18278.8848 - mse: 18278.8848 - mae: 134.2709 - val_loss: 18169.9980 - val_mse: 18169.9980 - val_mae: 133.8587\n",
      "Epoch 4/50\n",
      "121/121 [==============================] - 0s 1ms/step - loss: 18278.8828 - mse: 18278.8828 - mae: 134.2709 - val_loss: 18169.9980 - val_mse: 18169.9980 - val_mae: 133.8587\n",
      "Epoch 5/50\n",
      "121/121 [==============================] - 0s 1ms/step - loss: 18278.8887 - mse: 18278.8887 - mae: 134.2709 - val_loss: 18169.9980 - val_mse: 18169.9980 - val_mae: 133.8587\n",
      "Epoch 6/50\n",
      "121/121 [==============================] - 0s 1ms/step - loss: 18278.8848 - mse: 18278.8848 - mae: 134.2709 - val_loss: 18169.9980 - val_mse: 18169.9980 - val_mae: 133.8587\n",
      "Epoch 7/50\n",
      "121/121 [==============================] - 0s 1ms/step - loss: 18278.8828 - mse: 18278.8828 - mae: 134.2709 - val_loss: 18169.9980 - val_mse: 18169.9980 - val_mae: 133.8587\n",
      "Epoch 8/50\n",
      "121/121 [==============================] - 0s 1ms/step - loss: 18278.8867 - mse: 18278.8867 - mae: 134.2710 - val_loss: 18169.9980 - val_mse: 18169.9980 - val_mae: 133.8587\n",
      "Epoch 9/50\n",
      "121/121 [==============================] - 0s 1ms/step - loss: 18278.8828 - mse: 18278.8828 - mae: 134.2709 - val_loss: 18169.9980 - val_mse: 18169.9980 - val_mae: 133.8587\n",
      "Epoch 10/50\n",
      "121/121 [==============================] - 0s 1ms/step - loss: 18278.8867 - mse: 18278.8867 - mae: 134.2709 - val_loss: 18169.9980 - val_mse: 18169.9980 - val_mae: 133.8587\n",
      "Epoch 11/50\n",
      "121/121 [==============================] - 0s 1ms/step - loss: 18278.8848 - mse: 18278.8848 - mae: 134.2710 - val_loss: 18169.9980 - val_mse: 18169.9980 - val_mae: 133.8587\n",
      "Epoch 12/50\n",
      "121/121 [==============================] - 0s 1ms/step - loss: 18278.8848 - mse: 18278.8848 - mae: 134.2709 - val_loss: 18169.9980 - val_mse: 18169.9980 - val_mae: 133.8587\n",
      "Epoch 13/50\n",
      "121/121 [==============================] - 0s 1ms/step - loss: 18278.8887 - mse: 18278.8887 - mae: 134.2709 - val_loss: 18169.9980 - val_mse: 18169.9980 - val_mae: 133.8587\n",
      "Epoch 14/50\n",
      "121/121 [==============================] - 0s 1ms/step - loss: 18278.8848 - mse: 18278.8848 - mae: 134.2709 - val_loss: 18169.9980 - val_mse: 18169.9980 - val_mae: 133.8587\n",
      "Epoch 15/50\n",
      "121/121 [==============================] - 0s 1ms/step - loss: 18278.8867 - mse: 18278.8867 - mae: 134.2709 - val_loss: 18169.9980 - val_mse: 18169.9980 - val_mae: 133.8587\n",
      "Epoch 16/50\n",
      "121/121 [==============================] - 0s 1ms/step - loss: 18278.8828 - mse: 18278.8828 - mae: 134.2709 - val_loss: 18169.9980 - val_mse: 18169.9980 - val_mae: 133.8587\n",
      "Epoch 17/50\n",
      "121/121 [==============================] - 0s 1ms/step - loss: 18278.8789 - mse: 18278.8789 - mae: 134.2709 - val_loss: 18169.9980 - val_mse: 18169.9980 - val_mae: 133.8587\n",
      "Epoch 18/50\n",
      "121/121 [==============================] - 0s 1ms/step - loss: 18278.8867 - mse: 18278.8867 - mae: 134.2709 - val_loss: 18169.9980 - val_mse: 18169.9980 - val_mae: 133.8587\n",
      "Epoch 19/50\n",
      "121/121 [==============================] - 0s 1ms/step - loss: 18278.8828 - mse: 18278.8828 - mae: 134.2709 - val_loss: 18169.9980 - val_mse: 18169.9980 - val_mae: 133.8587\n",
      "Epoch 20/50\n",
      "121/121 [==============================] - 0s 1ms/step - loss: 18278.8828 - mse: 18278.8828 - mae: 134.2709 - val_loss: 18169.9980 - val_mse: 18169.9980 - val_mae: 133.8587\n",
      "Epoch 21/50\n",
      "121/121 [==============================] - 0s 1ms/step - loss: 18278.8867 - mse: 18278.8867 - mae: 134.2709 - val_loss: 18169.9980 - val_mse: 18169.9980 - val_mae: 133.8587\n",
      "Epoch 22/50\n",
      "121/121 [==============================] - 0s 1ms/step - loss: 18278.8867 - mse: 18278.8867 - mae: 134.2709 - val_loss: 18169.9980 - val_mse: 18169.9980 - val_mae: 133.8587\n",
      "Epoch 23/50\n",
      "121/121 [==============================] - 0s 1ms/step - loss: 18278.8867 - mse: 18278.8867 - mae: 134.2709 - val_loss: 18169.9980 - val_mse: 18169.9980 - val_mae: 133.8587\n",
      "Epoch 24/50\n",
      "121/121 [==============================] - 0s 2ms/step - loss: 18278.8906 - mse: 18278.8906 - mae: 134.2709 - val_loss: 18169.9980 - val_mse: 18169.9980 - val_mae: 133.8587\n",
      "Epoch 25/50\n",
      "121/121 [==============================] - 0s 2ms/step - loss: 18278.8867 - mse: 18278.8867 - mae: 134.2709 - val_loss: 18169.9980 - val_mse: 18169.9980 - val_mae: 133.8587\n",
      "Epoch 26/50\n",
      "121/121 [==============================] - 0s 3ms/step - loss: 18278.8828 - mse: 18278.8828 - mae: 134.2709 - val_loss: 18169.9980 - val_mse: 18169.9980 - val_mae: 133.8587\n",
      "Epoch 27/50\n",
      "121/121 [==============================] - 0s 2ms/step - loss: 18278.8848 - mse: 18278.8848 - mae: 134.2709 - val_loss: 18169.9980 - val_mse: 18169.9980 - val_mae: 133.8587\n",
      "Epoch 28/50\n",
      "121/121 [==============================] - 0s 2ms/step - loss: 18278.8828 - mse: 18278.8828 - mae: 134.2710 - val_loss: 18169.9980 - val_mse: 18169.9980 - val_mae: 133.8587\n",
      "Epoch 29/50\n",
      "121/121 [==============================] - 0s 2ms/step - loss: 18278.8867 - mse: 18278.8867 - mae: 134.2709 - val_loss: 18169.9980 - val_mse: 18169.9980 - val_mae: 133.8587\n",
      "Epoch 30/50\n",
      "121/121 [==============================] - 0s 2ms/step - loss: 18278.8848 - mse: 18278.8828 - mae: 134.2709 - val_loss: 18169.9980 - val_mse: 18169.9980 - val_mae: 133.8587\n",
      "Epoch 31/50\n",
      "121/121 [==============================] - 0s 1ms/step - loss: 18278.8828 - mse: 18278.8828 - mae: 134.2709 - val_loss: 18169.9980 - val_mse: 18169.9980 - val_mae: 133.8587\n",
      "Epoch 32/50\n",
      "121/121 [==============================] - 0s 2ms/step - loss: 18278.8809 - mse: 18278.8809 - mae: 134.2709 - val_loss: 18169.9980 - val_mse: 18169.9980 - val_mae: 133.8587\n",
      "Epoch 33/50\n",
      "121/121 [==============================] - 0s 2ms/step - loss: 18278.8848 - mse: 18278.8848 - mae: 134.2710 - val_loss: 18169.9980 - val_mse: 18169.9980 - val_mae: 133.8587\n",
      "Epoch 34/50\n",
      "121/121 [==============================] - 0s 2ms/step - loss: 18278.8848 - mse: 18278.8848 - mae: 134.2709 - val_loss: 18169.9980 - val_mse: 18169.9980 - val_mae: 133.8587\n",
      "Epoch 35/50\n",
      "121/121 [==============================] - 0s 2ms/step - loss: 18278.8906 - mse: 18278.8926 - mae: 134.2710 - val_loss: 18169.9980 - val_mse: 18169.9980 - val_mae: 133.8587\n",
      "Epoch 36/50\n",
      "121/121 [==============================] - 0s 2ms/step - loss: 18278.8887 - mse: 18278.8887 - mae: 134.2709 - val_loss: 18169.9980 - val_mse: 18169.9980 - val_mae: 133.8587\n",
      "Epoch 37/50\n",
      "121/121 [==============================] - 0s 2ms/step - loss: 18278.8887 - mse: 18278.8887 - mae: 134.2710 - val_loss: 18169.9980 - val_mse: 18169.9980 - val_mae: 133.8587\n",
      "Epoch 38/50\n",
      "121/121 [==============================] - 0s 2ms/step - loss: 18278.8848 - mse: 18278.8848 - mae: 134.2709 - val_loss: 18169.9980 - val_mse: 18169.9980 - val_mae: 133.8587\n",
      "Epoch 39/50\n",
      "121/121 [==============================] - 0s 2ms/step - loss: 18278.8867 - mse: 18278.8867 - mae: 134.2709 - val_loss: 18169.9980 - val_mse: 18169.9980 - val_mae: 133.8587\n",
      "Epoch 40/50\n",
      "121/121 [==============================] - 0s 2ms/step - loss: 18278.8789 - mse: 18278.8809 - mae: 134.2709 - val_loss: 18169.9980 - val_mse: 18169.9980 - val_mae: 133.8587\n",
      "Epoch 41/50\n",
      "121/121 [==============================] - 0s 2ms/step - loss: 18278.8867 - mse: 18278.8867 - mae: 134.2710 - val_loss: 18169.9980 - val_mse: 18169.9980 - val_mae: 133.8587\n",
      "Epoch 42/50\n",
      "121/121 [==============================] - 0s 2ms/step - loss: 18278.8906 - mse: 18278.8906 - mae: 134.2710 - val_loss: 18169.9980 - val_mse: 18169.9980 - val_mae: 133.8587\n",
      "Epoch 43/50\n",
      "121/121 [==============================] - 0s 2ms/step - loss: 18278.8887 - mse: 18278.8887 - mae: 134.2709 - val_loss: 18169.9980 - val_mse: 18169.9980 - val_mae: 133.8587\n",
      "Epoch 44/50\n",
      "121/121 [==============================] - 0s 2ms/step - loss: 18278.8867 - mse: 18278.8867 - mae: 134.2709 - val_loss: 18169.9980 - val_mse: 18169.9980 - val_mae: 133.8587\n",
      "Epoch 45/50\n"
     ]
    },
    {
     "name": "stdout",
     "output_type": "stream",
     "text": [
      "121/121 [==============================] - 0s 2ms/step - loss: 18278.8906 - mse: 18278.8906 - mae: 134.2710 - val_loss: 18169.9980 - val_mse: 18169.9980 - val_mae: 133.8587\n",
      "Epoch 46/50\n",
      "121/121 [==============================] - 0s 2ms/step - loss: 18278.8867 - mse: 18278.8887 - mae: 134.2709 - val_loss: 18169.9980 - val_mse: 18169.9980 - val_mae: 133.8587\n",
      "Epoch 47/50\n",
      "121/121 [==============================] - 0s 2ms/step - loss: 18278.8887 - mse: 18278.8887 - mae: 134.2709 - val_loss: 18169.9980 - val_mse: 18169.9980 - val_mae: 133.8587\n",
      "Epoch 48/50\n",
      "121/121 [==============================] - 0s 2ms/step - loss: 18278.8848 - mse: 18278.8848 - mae: 134.2709 - val_loss: 18169.9980 - val_mse: 18169.9980 - val_mae: 133.8587\n",
      "Epoch 49/50\n",
      "121/121 [==============================] - 0s 2ms/step - loss: 18278.8867 - mse: 18278.8867 - mae: 134.2709 - val_loss: 18169.9980 - val_mse: 18169.9980 - val_mae: 133.8587\n",
      "Epoch 50/50\n",
      "121/121 [==============================] - 0s 2ms/step - loss: 18278.8867 - mse: 18278.8867 - mae: 134.2709 - val_loss: 18169.9980 - val_mse: 18169.9980 - val_mae: 133.8587\n"
     ]
    }
   ],
   "source": [
    "history=model1.fit(x_train,y_train,validation_data=(x_test,y_test),epochs=50,batch_size=100)"
   ]
  },
  {
   "cell_type": "code",
   "execution_count": 17,
   "id": "4ffaefa7",
   "metadata": {},
   "outputs": [],
   "source": [
    "model1.save_weights(\"mywt.kmw\")"
   ]
  },
  {
   "cell_type": "code",
   "execution_count": 18,
   "id": "78349fba",
   "metadata": {},
   "outputs": [
    {
     "name": "stdout",
     "output_type": "stream",
     "text": [
      "376/376 [==============================] - 1s 1ms/step - loss: 18278.8887 - mse: 18278.8887 - mae: 134.2709\n",
      "mse: 1827888.87%\n"
     ]
    }
   ],
   "source": [
    "score=model1.evaluate(x_train,y_train)\n",
    "print(\"%s: %.2f%%\" %(model1.metrics_names[1],score[1]*100))"
   ]
  },
  {
   "cell_type": "code",
   "execution_count": 19,
   "id": "3f1bd1d3",
   "metadata": {},
   "outputs": [
    {
     "data": {
      "text/plain": [
       "dict_keys(['loss', 'mse', 'mae', 'val_loss', 'val_mse', 'val_mae'])"
      ]
     },
     "execution_count": 19,
     "metadata": {},
     "output_type": "execute_result"
    }
   ],
   "source": [
    "history.history.keys()"
   ]
  },
  {
   "cell_type": "code",
   "execution_count": 20,
   "id": "374928d4",
   "metadata": {},
   "outputs": [
    {
     "data": {
      "image/png": "[encoded data removed]",
      "text/plain": [
       "<Figure size 640x480 with 1 Axes>"
      ]
     },
     "metadata": {},
     "output_type": "display_data"
    }
   ],
   "source": [
    "plt.plot(history.history['mse'])\n",
    "plt.plot(history.history['val_mse'])\n",
    "plt.xlabel('epoch')\n",
    "plt.ylabel('mse')\n",
    "plt.title('model mse')\n",
    "plt.legend(['train','test'],loc='upper center')\n",
    "plt.show()"
   ]
  },
  {
   "cell_type": "code",
   "execution_count": 21,
   "id": "e23129c8",
   "metadata": {},
   "outputs": [
    {
     "data": {
      "image/png": "[encoded data removed]",
      "text/plain": [
       "<Figure size 640x480 with 1 Axes>"
      ]
     },
     "metadata": {},
     "output_type": "display_data"
    }
   ],
   "source": [
    "plt.plot(history.history['loss'])\n",
    "plt.plot(history.history['val_mse'])\n",
    "plt.xlabel('epoch')\n",
    "plt.ylabel('loss')\n",
    "plt.title('model loss')\n",
    "plt.legend(['train','test'],loc='upper center')\n",
    "plt.show()"
   ]
  },
  {
   "cell_type": "code",
   "execution_count": 22,
   "id": "45408305",
   "metadata": {},
   "outputs": [
    {
     "name": "stdout",
     "output_type": "stream",
     "text": [
      "376/376 [==============================] - 0s 986us/step\n",
      "94/94 [==============================] - 0s 1ms/step\n",
      "Training set rmse: 135.199, Testing set rmse: 134.796\n"
     ]
    }
   ],
   "source": [
    "y_train_pred=model1.predict(x_train)\n",
    "y_test_pred=model1.predict(x_test)\n",
    "train_rmse=mean_squared_error(y_train,y_train_pred,squared=False)\n",
    "test_rmse=mean_squared_error(y_test,y_test_pred,squared=False)\n",
    "print('Training set rmse: %.3f, Testing set rmse: %.3f' %(train_rmse,test_rmse))"
   ]
  },
  {
   "cell_type": "markdown",
   "id": "3eef9aae",
   "metadata": {},
   "source": [
    "# Randomized seaach CV"
   ]
  },
  {
   "cell_type": "code",
   "execution_count": 23,
   "id": "cd8a0f33",
   "metadata": {},
   "outputs": [],
   "source": [
    "def keras_reg_model2(learning_rate,activation_function,init,neuron1,neuron2):\n",
    "    model2=tf.keras.models.Sequential()\n",
    "    model2.add(tf.keras.layers.Dense(neuron1,input_dim=10,kernel_initializer=init,activation=activation_function))\n",
    "    model2.add(tf.keras.layers.Dense(neuron2,input_dim=neuron1,kernel_initializer=init,activation=activation_function))\n",
    "    model2.add(tf.keras.layers.Dense(1,activation='linear'))\n",
    "    adam=Adam(lr=learning_rate)\n",
    "    model2.compile(loss='mse',optimizer=adam,metrics=['mse','mae'])\n",
    "    return model2"
   ]
  },
  {
   "cell_type": "code",
   "execution_count": 24,
   "id": "5fbd285c",
   "metadata": {},
   "outputs": [],
   "source": [
    "keras_reg=KerasRegressor(build_fn=keras_reg_model2,verbose=0)"
   ]
  },
  {
   "cell_type": "code",
   "execution_count": 25,
   "id": "f8aca411",
   "metadata": {},
   "outputs": [
    {
     "name": "stdout",
     "output_type": "stream",
     "text": [
      "Fitting 5 folds for each of 10 candidates, totalling 50 fits\n"
     ]
    }
   ],
   "source": [
    "batch_size=[10,50,100,500,1000,2000]\n",
    "epochs=[25,50,80,100,150]\n",
    "learning_rate=[0.001,0.01,0.1]\n",
    "activation_function=['elu','relu','linear']\n",
    "init=['uniform','normal','zero']\n",
    "neuron1=[5,10,20,30]\n",
    "neuron2=[5,10,20,30]\n",
    "param_grids=dict(batch_size=batch_size,epochs=epochs,learning_rate=learning_rate,activation_function=activation_function,init=init,neuron1=neuron1,neuron2=neuron2)\n",
    "random_search=RandomizedSearchCV(estimator=keras_reg,param_distributions=param_grids,cv=5,n_jobs=-1,verbose=10,random_state=35)\n",
    "random_result=random_search.fit(x_train,y_train)"
   ]
  },
  {
   "cell_type": "code",
   "execution_count": 26,
   "id": "bd5e67e9",
   "metadata": {},
   "outputs": [
    {
     "name": "stdout",
     "output_type": "stream",
     "text": [
      "Best score: -3.5164854526519775\n",
      "Best parameters: {'neuron2': 10, 'neuron1': 20, 'learning_rate': 0.01, 'init': 'normal', 'epochs': 25, 'batch_size': 100, 'activation_function': 'relu'}\n"
     ]
    }
   ],
   "source": [
    "print('Best score:',random_result.best_score_)\n",
    "print('Best parameters:',random_result.best_params_)"
   ]
  },
  {
   "cell_type": "code",
   "execution_count": 31,
   "id": "9a4e95b3",
   "metadata": {},
   "outputs": [
    {
     "name": "stdout",
     "output_type": "stream",
     "text": [
      "Epoch 1/25\n",
      "121/121 [==============================] - 1s 6ms/step - loss: 461.9590 - mse: 461.9590 - mae: 15.0796 - val_loss: 185.9028 - val_mse: 185.9028 - val_mae: 9.7100\n",
      "Epoch 2/25\n",
      "121/121 [==============================] - 0s 3ms/step - loss: 146.4122 - mse: 146.4122 - mae: 9.1262 - val_loss: 88.1244 - val_mse: 88.1244 - val_mae: 6.8387\n",
      "Epoch 3/25\n",
      "121/121 [==============================] - 0s 3ms/step - loss: 48.9373 - mse: 48.9373 - mae: 5.2226 - val_loss: 22.6188 - val_mse: 22.6188 - val_mae: 3.7347\n",
      "Epoch 4/25\n",
      "121/121 [==============================] - 0s 3ms/step - loss: 16.1282 - mse: 16.1282 - mae: 2.8681 - val_loss: 13.3721 - val_mse: 13.3721 - val_mae: 2.9186\n",
      "Epoch 5/25\n",
      "121/121 [==============================] - 0s 3ms/step - loss: 9.6031 - mse: 9.6031 - mae: 2.2649 - val_loss: 6.4564 - val_mse: 6.4564 - val_mae: 1.9114\n",
      "Epoch 6/25\n",
      "121/121 [==============================] - 0s 3ms/step - loss: 8.5176 - mse: 8.5176 - mae: 2.2290 - val_loss: 3.9199 - val_mse: 3.9199 - val_mae: 1.4692\n",
      "Epoch 7/25\n",
      "121/121 [==============================] - 0s 3ms/step - loss: 5.9087 - mse: 5.9087 - mae: 1.8885 - val_loss: 3.0919 - val_mse: 3.0919 - val_mae: 1.3035\n",
      "Epoch 8/25\n",
      "121/121 [==============================] - 0s 3ms/step - loss: 6.0701 - mse: 6.0701 - mae: 1.9493 - val_loss: 7.4775 - val_mse: 7.4775 - val_mae: 2.3324\n",
      "Epoch 9/25\n",
      "121/121 [==============================] - 0s 3ms/step - loss: 5.7072 - mse: 5.7072 - mae: 1.9275 - val_loss: 4.4671 - val_mse: 4.4671 - val_mae: 1.7331\n",
      "Epoch 10/25\n",
      "121/121 [==============================] - 0s 3ms/step - loss: 4.8522 - mse: 4.8522 - mae: 1.7619 - val_loss: 3.1924 - val_mse: 3.1924 - val_mae: 1.4301\n",
      "Epoch 11/25\n",
      "121/121 [==============================] - 0s 3ms/step - loss: 4.2742 - mse: 4.2742 - mae: 1.6156 - val_loss: 9.5597 - val_mse: 9.5597 - val_mae: 2.7715\n",
      "Epoch 12/25\n",
      "121/121 [==============================] - 0s 3ms/step - loss: 5.8850 - mse: 5.8850 - mae: 1.9400 - val_loss: 11.9576 - val_mse: 11.9576 - val_mae: 3.1831\n",
      "Epoch 13/25\n",
      "121/121 [==============================] - 0s 3ms/step - loss: 6.3873 - mse: 6.3873 - mae: 2.0344 - val_loss: 2.5064 - val_mse: 2.5064 - val_mae: 1.2530\n",
      "Epoch 14/25\n",
      "121/121 [==============================] - 0s 3ms/step - loss: 4.2850 - mse: 4.2850 - mae: 1.6514 - val_loss: 1.8918 - val_mse: 1.8918 - val_mae: 1.0422\n",
      "Epoch 15/25\n",
      "121/121 [==============================] - 0s 3ms/step - loss: 4.0371 - mse: 4.0371 - mae: 1.5745 - val_loss: 7.3411 - val_mse: 7.3411 - val_mae: 2.4060\n",
      "Epoch 16/25\n",
      "121/121 [==============================] - 0s 3ms/step - loss: 4.7300 - mse: 4.7300 - mae: 1.7531 - val_loss: 2.4715 - val_mse: 2.4715 - val_mae: 1.2086\n",
      "Epoch 17/25\n",
      "121/121 [==============================] - 0s 3ms/step - loss: 5.7397 - mse: 5.7397 - mae: 1.9498 - val_loss: 1.7193 - val_mse: 1.7193 - val_mae: 0.9978\n",
      "Epoch 18/25\n",
      "121/121 [==============================] - 0s 3ms/step - loss: 3.9275 - mse: 3.9275 - mae: 1.5832 - val_loss: 1.8010 - val_mse: 1.8010 - val_mae: 1.0046\n",
      "Epoch 19/25\n",
      "121/121 [==============================] - 0s 3ms/step - loss: 4.7370 - mse: 4.7370 - mae: 1.7550 - val_loss: 2.0802 - val_mse: 2.0802 - val_mae: 1.1472\n",
      "Epoch 20/25\n",
      "121/121 [==============================] - 0s 3ms/step - loss: 3.5087 - mse: 3.5087 - mae: 1.4705 - val_loss: 3.0638 - val_mse: 3.0638 - val_mae: 1.4537\n",
      "Epoch 21/25\n",
      "121/121 [==============================] - 0s 3ms/step - loss: 5.4770 - mse: 5.4770 - mae: 1.8716 - val_loss: 4.9300 - val_mse: 4.9300 - val_mae: 1.9072\n",
      "Epoch 22/25\n",
      "121/121 [==============================] - 0s 3ms/step - loss: 5.3114 - mse: 5.3114 - mae: 1.8852 - val_loss: 5.1453 - val_mse: 5.1453 - val_mae: 1.9865\n",
      "Epoch 23/25\n",
      "121/121 [==============================] - 0s 3ms/step - loss: 4.5945 - mse: 4.5945 - mae: 1.6954 - val_loss: 1.8474 - val_mse: 1.8474 - val_mae: 1.0251\n",
      "Epoch 24/25\n",
      "121/121 [==============================] - 0s 3ms/step - loss: 6.0501 - mse: 6.0501 - mae: 1.9646 - val_loss: 6.5273 - val_mse: 6.5273 - val_mae: 2.2780\n",
      "Epoch 25/25\n",
      "121/121 [==============================] - 0s 3ms/step - loss: 3.5193 - mse: 3.5193 - mae: 1.4998 - val_loss: 6.7684 - val_mse: 6.7684 - val_mae: 2.3363\n"
     ]
    }
   ],
   "source": [
    "ddd=random_result.best_params_\n",
    "keras_tuned=keras_reg_model2(learning_rate=ddd['learning_rate'],activation_function=ddd['activation_function'],init=ddd['init'],neuron1=ddd['neuron1'],neuron2=ddd['neuron2'])\n",
    "history2=keras_tuned.fit(x_train,y_train,validation_data=(x_test,y_test),epochs=ddd['epochs'],batch_size=ddd['batch_size'])"
   ]
  },
  {
   "cell_type": "code",
   "execution_count": 33,
   "id": "c25fef3e",
   "metadata": {},
   "outputs": [
    {
     "name": "stdout",
     "output_type": "stream",
     "text": [
      "376/376 [==============================] - 1s 2ms/step\n",
      "94/94 [==============================] - 0s 2ms/step\n",
      "Training set rmse : 2.587,Testing set rmse: 2.602\n"
     ]
    }
   ],
   "source": [
    "y_train_pred_tuned=keras_tuned.predict(x_train)\n",
    "y_test_pred_tuned=keras_tuned.predict(x_test)\n",
    "train_rmse_tuned=mean_squared_error(y_train,y_train_pred_tuned,squared=False)\n",
    "test_rmse_tuned=mean_squared_error(y_test,y_test_pred_tuned,squared=False)\n",
    "\n",
    "print('Training set rmse : %.3f,Testing set rmse: %.3f' %(train_rmse_tuned,test_rmse_tuned))"
   ]
  },
  {
   "cell_type": "code",
   "execution_count": 35,
   "id": "7993b2ea",
   "metadata": {},
   "outputs": [],
   "source": [
    "final=pd.DataFrame({'models':['base model','tuned model'],'train rmse':[train_rmse,train_rmse_tuned],'test rmse':[test_rmse,test_rmse_tuned]})"
   ]
  },
  {
   "cell_type": "code",
   "execution_count": 36,
   "id": "00b54dc3",
   "metadata": {},
   "outputs": [
    {
     "data": {
      "text/html": [
       "<div>\n",
       "<style scoped>\n",
       "    .dataframe tbody tr th:only-of-type {\n",
       "        vertical-align: middle;\n",
       "    }\n",
       "\n",
       "    .dataframe tbody tr th {\n",
       "        vertical-align: top;\n",
       "    }\n",
       "\n",
       "    .dataframe thead th {\n",
       "        text-align: right;\n",
       "    }\n",
       "</style>\n",
       "<table border=\"1\" class=\"dataframe\">\n",
       "  <thead>\n",
       "    <tr style=\"text-align: right;\">\n",
       "      <th></th>\n",
       "      <th>models</th>\n",
       "      <th>train rmse</th>\n",
       "      <th>test rmse</th>\n",
       "    </tr>\n",
       "  </thead>\n",
       "  <tbody>\n",
       "    <tr>\n",
       "      <th>0</th>\n",
       "      <td>base model</td>\n",
       "      <td>135.19943</td>\n",
       "      <td>134.796142</td>\n",
       "    </tr>\n",
       "    <tr>\n",
       "      <th>1</th>\n",
       "      <td>tuned model</td>\n",
       "      <td>2.58727</td>\n",
       "      <td>2.601624</td>\n",
       "    </tr>\n",
       "  </tbody>\n",
       "</table>\n",
       "</div>"
      ],
      "text/plain": [
       "        models  train rmse   test rmse\n",
       "0   base model   135.19943  134.796142\n",
       "1  tuned model     2.58727    2.601624"
      ]
     },
     "execution_count": 36,
     "metadata": {},
     "output_type": "execute_result"
    }
   ],
   "source": [
    "final"
   ]
  },
  {
   "cell_type": "code",
   "execution_count": null,
   "id": "ad3f3c96",
   "metadata": {},
   "outputs": [],
   "source": []
  }
 ],
 "metadata": {
  "kernelspec": {
   "display_name": "Python 3 (ipykernel)",
   "language": "python",
   "name": "python3"
  },
  "language_info": {
   "codemirror_mode": {
    "name": "ipython",
    "version": 3
   },
   "file_extension": ".py",
   "mimetype": "text/x-python",
   "name": "python",
   "nbconvert_exporter": "python",
   "pygments_lexer": "ipython3",
   "version": "3.9.13"
  }
 },
 "nbformat": 4,
 "nbformat_minor": 5
}
